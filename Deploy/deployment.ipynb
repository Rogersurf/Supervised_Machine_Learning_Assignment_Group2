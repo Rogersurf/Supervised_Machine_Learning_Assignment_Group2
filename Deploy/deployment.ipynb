{
 "cells": [
  {
   "cell_type": "code",
   "execution_count": 1,
   "metadata": {},
   "outputs": [
    {
     "ename": "ModuleNotFoundError",
     "evalue": "No module named 'pipeline'",
     "output_type": "error",
     "traceback": [
      "\u001b[1;31m---------------------------------------------------------------------------\u001b[0m",
      "\u001b[1;31mModuleNotFoundError\u001b[0m                       Traceback (most recent call last)",
      "\u001b[1;32mg:\\My Drive\\Colab Notebooks\\Assignment3\\SML_G2\\Deploy\\deployment.ipynb Cell 1\u001b[0m line \u001b[0;36m7\n\u001b[0;32m      <a href='vscode-notebook-cell:/g%3A/My%20Drive/Colab%20Notebooks/Assignment3/SML_G2/Deploy/deployment.ipynb#W0sZmlsZQ%3D%3D?line=4'>5</a>\u001b[0m \u001b[39mfrom\u001b[39;00m \u001b[39msklearn\u001b[39;00m\u001b[39m.\u001b[39;00m\u001b[39mpreprocessing\u001b[39;00m \u001b[39mimport\u001b[39;00m StandardScaler\n\u001b[0;32m      <a href='vscode-notebook-cell:/g%3A/My%20Drive/Colab%20Notebooks/Assignment3/SML_G2/Deploy/deployment.ipynb#W0sZmlsZQ%3D%3D?line=5'>6</a>\u001b[0m \u001b[39mfrom\u001b[39;00m \u001b[39msklearn\u001b[39;00m\u001b[39m.\u001b[39;00m\u001b[39mensemble\u001b[39;00m \u001b[39mimport\u001b[39;00m RandomForestRegressor\n\u001b[1;32m----> <a href='vscode-notebook-cell:/g%3A/My%20Drive/Colab%20Notebooks/Assignment3/SML_G2/Deploy/deployment.ipynb#W0sZmlsZQ%3D%3D?line=6'>7</a>\u001b[0m \u001b[39mfrom\u001b[39;00m \u001b[39mpipeline\u001b[39;00m \u001b[39mimport\u001b[39;00m preprocessor, models, load_and_split_data\n",
      "\u001b[1;31mModuleNotFoundError\u001b[0m: No module named 'pipeline'"
     ]
    }
   ],
   "source": [
    "import gradio as gr\n",
    "import pandas as pd\n",
    "from sklearn.pipeline import Pipeline\n",
    "from sklearn.compose import ColumnTransformer\n",
    "from sklearn.preprocessing import StandardScaler\n",
    "from sklearn.ensemble import RandomForestRegressor\n",
    "from pipeline import preprocessor, models, load_and_split_data   "
   ]
  },
  {
   "cell_type": "code",
   "execution_count": null,
   "metadata": {},
   "outputs": [],
   "source": [
    "# Load and split data\n",
    "X_train, X_test, y_train, y_test = load_and_split_data()"
   ]
  },
  {
   "cell_type": "code",
   "execution_count": null,
   "metadata": {},
   "outputs": [],
   "source": [
    "def make_prediction(model_name, input_df):\n",
    "    # Define and Train Pipeline with the chosen model\n",
    "    pipeline = Pipeline([\n",
    "        ('preprocessor', preprocessor),\n",
    "        ('model', models[model_name])\n",
    "    ])\n",
    "\n",
    "    pipeline.fit(X_train, y_train)\n",
    "\n",
    "    # Use the pipeline to make predictions\n",
    "    prediction = pipeline.predict(input_df)\n",
    "    \n",
    "    return prediction[0]"
   ]
  },
  {
   "cell_type": "code",
   "execution_count": null,
   "metadata": {},
   "outputs": [],
   "source": [
    "def predict(area, parking, bedrooms, stories, furnishingstatus):\n",
    "    # Mapping user input to corresponding categories\n",
    "    furnishing_mapping = {2: 'Furnished', 1: 'Semi-Furnished', 0: 'Unfurnished'}\n",
    "    furnishingstatus = furnishing_mapping[furnishingstatus]\n",
    "    \n",
    "    # Create DataFrame from the inputs\n",
    "    df = pd.DataFrame({\n",
    "        'area': [area],\n",
    "        'parking': [parking],\n",
    "        'bedrooms': [bedrooms],\n",
    "        'stories': [stories],\n",
    "        'furnishingstatus': [furnishingstatus]  # if categorical, ensure it's processed as such.\n",
    "    })\n",
    "\n",
    "    model_name = 'random_forest'  # You can dynamically change this value\n",
    "    input_df = pd.DataFrame({'area': [some_value], 'parking': [some_value], 'furnishingstatus': [some_value], 'bedrooms': [some_value], 'stories': [some_value]})\n",
    "    prediction = make_prediction(model_name, input_df)\n",
    "    print(prediction)\n",
    "\n",
    "\n",
    "    # Use the pipeline to make predictions\n",
    "    prediction = pipeline.predict(df)\n",
    "    \n",
    "    return prediction[0]\n"
   ]
  },
  {
   "cell_type": "code",
   "execution_count": null,
   "metadata": {},
   "outputs": [
    {
     "name": "stderr",
     "output_type": "stream",
     "text": [
      "C:\\Users\\roger\\AppData\\Local\\Temp\\ipykernel_16960\\1844622420.py:4: GradioDeprecationWarning: Usage of gradio.inputs is deprecated, and will not be supported in the future, please import your component from gradio.components\n",
      "  gr.inputs.Slider(minimum=0, maximum=15000, step=1, default=1000, label='Area (0 - 15000 m²)'),\n",
      "C:\\Users\\roger\\AppData\\Local\\Temp\\ipykernel_16960\\1844622420.py:4: GradioDeprecationWarning: `optional` parameter is deprecated, and it has no effect\n",
      "  gr.inputs.Slider(minimum=0, maximum=15000, step=1, default=1000, label='Area (0 - 15000 m²)'),\n",
      "C:\\Users\\roger\\AppData\\Local\\Temp\\ipykernel_16960\\1844622420.py:5: GradioDeprecationWarning: Usage of gradio.inputs is deprecated, and will not be supported in the future, please import your component from gradio.components\n",
      "  gr.inputs.Slider(minimum=0, maximum=5, step=1, default=1, label='Parking (0 - 5)'),\n",
      "C:\\Users\\roger\\AppData\\Local\\Temp\\ipykernel_16960\\1844622420.py:5: GradioDeprecationWarning: `optional` parameter is deprecated, and it has no effect\n",
      "  gr.inputs.Slider(minimum=0, maximum=5, step=1, default=1, label='Parking (0 - 5)'),\n",
      "C:\\Users\\roger\\AppData\\Local\\Temp\\ipykernel_16960\\1844622420.py:6: GradioDeprecationWarning: Usage of gradio.inputs is deprecated, and will not be supported in the future, please import your component from gradio.components\n",
      "  gr.inputs.Slider(minimum=0, maximum=6, step=1, default=1, label='Bedrooms (0 - 6)'),\n",
      "C:\\Users\\roger\\AppData\\Local\\Temp\\ipykernel_16960\\1844622420.py:6: GradioDeprecationWarning: `optional` parameter is deprecated, and it has no effect\n",
      "  gr.inputs.Slider(minimum=0, maximum=6, step=1, default=1, label='Bedrooms (0 - 6)'),\n",
      "C:\\Users\\roger\\AppData\\Local\\Temp\\ipykernel_16960\\1844622420.py:7: GradioDeprecationWarning: Usage of gradio.inputs is deprecated, and will not be supported in the future, please import your component from gradio.components\n",
      "  gr.inputs.Slider(minimum=0, maximum=20, step=1, default=1, label='Stories (0 - 20)'),\n",
      "C:\\Users\\roger\\AppData\\Local\\Temp\\ipykernel_16960\\1844622420.py:7: GradioDeprecationWarning: `optional` parameter is deprecated, and it has no effect\n",
      "  gr.inputs.Slider(minimum=0, maximum=20, step=1, default=1, label='Stories (0 - 20)'),\n",
      "C:\\Users\\roger\\AppData\\Local\\Temp\\ipykernel_16960\\1844622420.py:8: GradioDeprecationWarning: Usage of gradio.inputs is deprecated, and will not be supported in the future, please import your component from gradio.components\n",
      "  gr.inputs.Dropdown(choices={2: '2 - Furnished', 1: '1 - Semi-Furnished', 0: '0 - Unfurnished'}, label='Furnishing Status')\n",
      "C:\\Users\\roger\\AppData\\Local\\Temp\\ipykernel_16960\\1844622420.py:8: GradioDeprecationWarning: `optional` parameter is deprecated, and it has no effect\n",
      "  gr.inputs.Dropdown(choices={2: '2 - Furnished', 1: '1 - Semi-Furnished', 0: '0 - Unfurnished'}, label='Furnishing Status')\n",
      "C:\\Users\\roger\\AppData\\Local\\Temp\\ipykernel_16960\\1844622420.py:10: GradioDeprecationWarning: Usage of gradio.outputs is deprecated, and will not be supported in the future, please import your components from gradio.components\n",
      "  outputs=gr.outputs.Textbox(label=\"Predicted Price\")\n"
     ]
    }
   ],
   "source": [
    "iface = gr.Interface(\n",
    "    fn=predict,\n",
    "    inputs=[\n",
    "        gr.inputs.Slider(minimum=0, maximum=15000, step=1, default=1000, label='Area (0 - 15000 m²)'),\n",
    "        gr.inputs.Slider(minimum=0, maximum=5, step=1, default=1, label='Parking (0 - 5)'),\n",
    "        gr.inputs.Slider(minimum=0, maximum=6, step=1, default=1, label='Bedrooms (0 - 6)'),\n",
    "        gr.inputs.Slider(minimum=0, maximum=20, step=1, default=1, label='Stories (0 - 20)'),\n",
    "        gr.inputs.Dropdown(choices={2: '2 - Furnished', 1: '1 - Semi-Furnished', 0: '0 - Unfurnished'}, label='Furnishing Status')\n",
    "    ],\n",
    "    outputs=gr.outputs.Textbox(label=\"Predicted Price\")\n",
    ")"
   ]
  },
  {
   "cell_type": "code",
   "execution_count": null,
   "metadata": {},
   "outputs": [
    {
     "name": "stdout",
     "output_type": "stream",
     "text": [
      "Rerunning server... use `close()` to stop if you need to change `launch()` parameters.\n",
      "----\n",
      "\n",
      "To create a public link, set `share=True` in `launch()`.\n"
     ]
    },
    {
     "data": {
      "text/html": [
       "<div><iframe src=\"http://127.0.0.1:7860/\" width=\"100%\" height=\"500\" allow=\"autoplay; camera; microphone; clipboard-read; clipboard-write;\" frameborder=\"0\" allowfullscreen></iframe></div>"
      ],
      "text/plain": [
       "<IPython.core.display.HTML object>"
      ]
     },
     "metadata": {},
     "output_type": "display_data"
    },
    {
     "data": {
      "text/plain": []
     },
     "execution_count": 20,
     "metadata": {},
     "output_type": "execute_result"
    }
   ],
   "source": [
    "iface.launch()"
   ]
  },
  {
   "cell_type": "code",
   "execution_count": null,
   "metadata": {},
   "outputs": [],
   "source": [
    "iface.close()"
   ]
  }
 ],
 "metadata": {
  "kernelspec": {
   "display_name": "Data Science",
   "language": "python",
   "name": "eda"
  },
  "language_info": {
   "codemirror_mode": {
    "name": "ipython",
    "version": 3
   },
   "file_extension": ".py",
   "mimetype": "text/x-python",
   "name": "python",
   "nbconvert_exporter": "python",
   "pygments_lexer": "ipython3",
   "version": "3.11.4"
  },
  "orig_nbformat": 4
 },
 "nbformat": 4,
 "nbformat_minor": 2
}
